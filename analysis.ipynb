{
 "cells": [
  {
   "cell_type": "markdown",
   "metadata": {},
   "source": [
    "### Attribute Description:\n",
    "Attribute | Description\n",
    "----------|-------------\n",
    "`Invoice No` | Invoice ID, encoded as Label\n",
    "`StockCode` | Unique code per stock, encoded as Label\n",
    "`Description` | The Description, encoded as Label\n",
    "`Quantity` | Quantity purchased\n",
    "`InvoiceDate` | Date of purchase\n",
    "`UnitPrice` | The target value, price of every product\n",
    "`CustomerID` | Unique Identifier for every country\n",
    "`Country` | Country of sales, encoded as Label\n",
    "\n",
    "### Target\n",
    "`UnitPrice` is the target.\n",
    "\n",
    "### Performance Measure\n",
    "RMSE (Root Mean Square Error)"
   ]
  },
  {
   "cell_type": "code",
   "execution_count": 1,
   "metadata": {},
   "outputs": [],
   "source": [
    "import pandas as pd\n",
    "import numpy as np\n",
    "import matplotlib.pyplot as plt\n",
    "import seaborn as sns\n",
    "\n",
    "from scipy import stats\n",
    "\n",
    "from sklearn import preprocessing\n",
    "\n",
    "import utility_functions as uf"
   ]
  },
  {
   "cell_type": "markdown",
   "metadata": {},
   "source": [
    "## Initial Data Analysis"
   ]
  },
  {
   "cell_type": "code",
   "execution_count": 2,
   "metadata": {},
   "outputs": [],
   "source": [
    "data = pd.read_csv(\"data/Train.csv\")"
   ]
  },
  {
   "cell_type": "code",
   "execution_count": 3,
   "metadata": {},
   "outputs": [],
   "source": [
    "test = pd.read_csv(\"data/Test.csv\")"
   ]
  },
  {
   "cell_type": "code",
   "execution_count": 4,
   "metadata": {},
   "outputs": [
    {
     "data": {
      "text/html": [
       "<div>\n",
       "<style scoped>\n",
       "    .dataframe tbody tr th:only-of-type {\n",
       "        vertical-align: middle;\n",
       "    }\n",
       "\n",
       "    .dataframe tbody tr th {\n",
       "        vertical-align: top;\n",
       "    }\n",
       "\n",
       "    .dataframe thead th {\n",
       "        text-align: right;\n",
       "    }\n",
       "</style>\n",
       "<table border=\"1\" class=\"dataframe\">\n",
       "  <thead>\n",
       "    <tr style=\"text-align: right;\">\n",
       "      <th></th>\n",
       "      <th>InvoiceNo</th>\n",
       "      <th>StockCode</th>\n",
       "      <th>Description</th>\n",
       "      <th>Quantity</th>\n",
       "      <th>InvoiceDate</th>\n",
       "      <th>UnitPrice</th>\n",
       "      <th>CustomerID</th>\n",
       "      <th>Country</th>\n",
       "    </tr>\n",
       "  </thead>\n",
       "  <tbody>\n",
       "    <tr>\n",
       "      <th>0</th>\n",
       "      <td>6141</td>\n",
       "      <td>1583</td>\n",
       "      <td>144</td>\n",
       "      <td>3</td>\n",
       "      <td>2011-05-06 16:54:00</td>\n",
       "      <td>3.75</td>\n",
       "      <td>14056.0</td>\n",
       "      <td>35</td>\n",
       "    </tr>\n",
       "    <tr>\n",
       "      <th>1</th>\n",
       "      <td>6349</td>\n",
       "      <td>1300</td>\n",
       "      <td>3682</td>\n",
       "      <td>6</td>\n",
       "      <td>2011-05-11 07:35:00</td>\n",
       "      <td>1.95</td>\n",
       "      <td>13098.0</td>\n",
       "      <td>35</td>\n",
       "    </tr>\n",
       "    <tr>\n",
       "      <th>2</th>\n",
       "      <td>16783</td>\n",
       "      <td>2178</td>\n",
       "      <td>1939</td>\n",
       "      <td>4</td>\n",
       "      <td>2011-11-20 13:20:00</td>\n",
       "      <td>5.95</td>\n",
       "      <td>15044.0</td>\n",
       "      <td>35</td>\n",
       "    </tr>\n",
       "    <tr>\n",
       "      <th>3</th>\n",
       "      <td>16971</td>\n",
       "      <td>2115</td>\n",
       "      <td>2983</td>\n",
       "      <td>1</td>\n",
       "      <td>2011-11-22 12:07:00</td>\n",
       "      <td>0.83</td>\n",
       "      <td>15525.0</td>\n",
       "      <td>35</td>\n",
       "    </tr>\n",
       "    <tr>\n",
       "      <th>4</th>\n",
       "      <td>6080</td>\n",
       "      <td>1210</td>\n",
       "      <td>2886</td>\n",
       "      <td>12</td>\n",
       "      <td>2011-05-06 09:00:00</td>\n",
       "      <td>1.65</td>\n",
       "      <td>13952.0</td>\n",
       "      <td>35</td>\n",
       "    </tr>\n",
       "  </tbody>\n",
       "</table>\n",
       "</div>"
      ],
      "text/plain": [
       "   InvoiceNo  StockCode  Description  Quantity          InvoiceDate  \\\n",
       "0       6141       1583          144         3  2011-05-06 16:54:00   \n",
       "1       6349       1300         3682         6  2011-05-11 07:35:00   \n",
       "2      16783       2178         1939         4  2011-11-20 13:20:00   \n",
       "3      16971       2115         2983         1  2011-11-22 12:07:00   \n",
       "4       6080       1210         2886        12  2011-05-06 09:00:00   \n",
       "\n",
       "   UnitPrice  CustomerID  Country  \n",
       "0       3.75     14056.0       35  \n",
       "1       1.95     13098.0       35  \n",
       "2       5.95     15044.0       35  \n",
       "3       0.83     15525.0       35  \n",
       "4       1.65     13952.0       35  "
      ]
     },
     "execution_count": 4,
     "metadata": {},
     "output_type": "execute_result"
    }
   ],
   "source": [
    "data.head()"
   ]
  },
  {
   "cell_type": "code",
   "execution_count": 5,
   "metadata": {},
   "outputs": [
    {
     "name": "stdout",
     "output_type": "stream",
     "text": [
      "Shape of:\n",
      "----------\n",
      "\t Training data: (284780, 8)\n",
      "\t Test data: (122049, 7)\n"
     ]
    }
   ],
   "source": [
    "print(\"Shape of:\")\n",
    "print(\"-\"*10)\n",
    "print(\"\\t Training data:\", data.shape)\n",
    "print(\"\\t Test data:\", test.shape)"
   ]
  },
  {
   "cell_type": "markdown",
   "metadata": {},
   "source": [
    "### Drop duplicates"
   ]
  },
  {
   "cell_type": "code",
   "execution_count": 3,
   "metadata": {},
   "outputs": [
    {
     "name": "stdout",
     "output_type": "stream",
     "text": [
      "There are 5093 duplicates in training data\n"
     ]
    }
   ],
   "source": [
    "print(f\"There are {data[data.duplicated(keep=False)].shape[0]} duplicates in training data\")"
   ]
  },
  {
   "cell_type": "code",
   "execution_count": 4,
   "metadata": {},
   "outputs": [],
   "source": [
    "data = data.drop_duplicates(ignore_index=True)"
   ]
  },
  {
   "cell_type": "markdown",
   "metadata": {},
   "source": [
    "### Missing Value Check and Type casting"
   ]
  },
  {
   "cell_type": "code",
   "execution_count": 8,
   "metadata": {},
   "outputs": [
    {
     "name": "stdout",
     "output_type": "stream",
     "text": [
      "Number of Nulls in Training data: 0\n"
     ]
    }
   ],
   "source": [
    "print(\"Number of Nulls in Training data:\",\n",
    "      data.isna().sum()\\\n",
    "      .sum())"
   ]
  },
  {
   "cell_type": "code",
   "execution_count": 9,
   "metadata": {},
   "outputs": [
    {
     "name": "stdout",
     "output_type": "stream",
     "text": [
      "Number of Nulls in Test data: 0\n"
     ]
    }
   ],
   "source": [
    "print(\"Number of Nulls in Test data:\",\n",
    "        test.isna().sum()\\\n",
    "        .sum())"
   ]
  },
  {
   "cell_type": "code",
   "execution_count": 10,
   "metadata": {},
   "outputs": [
    {
     "name": "stdout",
     "output_type": "stream",
     "text": [
      "<class 'pandas.core.frame.DataFrame'>\n",
      "RangeIndex: 282159 entries, 0 to 282158\n",
      "Data columns (total 8 columns):\n",
      " #   Column       Non-Null Count   Dtype  \n",
      "---  ------       --------------   -----  \n",
      " 0   InvoiceNo    282159 non-null  int64  \n",
      " 1   StockCode    282159 non-null  int64  \n",
      " 2   Description  282159 non-null  int64  \n",
      " 3   Quantity     282159 non-null  int64  \n",
      " 4   InvoiceDate  282159 non-null  object \n",
      " 5   UnitPrice    282159 non-null  float64\n",
      " 6   CustomerID   282159 non-null  float64\n",
      " 7   Country      282159 non-null  int64  \n",
      "dtypes: float64(2), int64(5), object(1)\n",
      "memory usage: 17.2+ MB\n"
     ]
    }
   ],
   "source": [
    "data.info()"
   ]
  },
  {
   "cell_type": "code",
   "execution_count": 5,
   "metadata": {},
   "outputs": [],
   "source": [
    "###### change dtypes to appropriate data types as applicable #######\n",
    "categorical_cols = ['InvoiceNo', 'StockCode', 'Description', 'CustomerID', 'Country']\n",
    "\n",
    "# convert to string\n",
    "data[categorical_cols] = data.loc[:,categorical_cols].astype('object')\n",
    "# convert to datetime\n",
    "data['InvoiceDate'] = pd.to_datetime(data.loc[:,'InvoiceDate'])"
   ]
  },
  {
   "cell_type": "code",
   "execution_count": 12,
   "metadata": {},
   "outputs": [
    {
     "data": {
      "text/html": [
       "<div>\n",
       "<style scoped>\n",
       "    .dataframe tbody tr th:only-of-type {\n",
       "        vertical-align: middle;\n",
       "    }\n",
       "\n",
       "    .dataframe tbody tr th {\n",
       "        vertical-align: top;\n",
       "    }\n",
       "\n",
       "    .dataframe thead th {\n",
       "        text-align: right;\n",
       "    }\n",
       "</style>\n",
       "<table border=\"1\" class=\"dataframe\">\n",
       "  <thead>\n",
       "    <tr style=\"text-align: right;\">\n",
       "      <th></th>\n",
       "      <th>Quantity</th>\n",
       "      <th>UnitPrice</th>\n",
       "    </tr>\n",
       "  </thead>\n",
       "  <tbody>\n",
       "    <tr>\n",
       "      <th>count</th>\n",
       "      <td>282159.000000</td>\n",
       "      <td>282159.000000</td>\n",
       "    </tr>\n",
       "    <tr>\n",
       "      <th>mean</th>\n",
       "      <td>12.109885</td>\n",
       "      <td>3.460501</td>\n",
       "    </tr>\n",
       "    <tr>\n",
       "      <th>std</th>\n",
       "      <td>296.463809</td>\n",
       "      <td>78.762448</td>\n",
       "    </tr>\n",
       "    <tr>\n",
       "      <th>min</th>\n",
       "      <td>-80995.000000</td>\n",
       "      <td>0.000000</td>\n",
       "    </tr>\n",
       "    <tr>\n",
       "      <th>25%</th>\n",
       "      <td>2.000000</td>\n",
       "      <td>1.250000</td>\n",
       "    </tr>\n",
       "    <tr>\n",
       "      <th>50%</th>\n",
       "      <td>5.000000</td>\n",
       "      <td>1.950000</td>\n",
       "    </tr>\n",
       "    <tr>\n",
       "      <th>75%</th>\n",
       "      <td>12.000000</td>\n",
       "      <td>3.750000</td>\n",
       "    </tr>\n",
       "    <tr>\n",
       "      <th>max</th>\n",
       "      <td>80995.000000</td>\n",
       "      <td>38970.000000</td>\n",
       "    </tr>\n",
       "  </tbody>\n",
       "</table>\n",
       "</div>"
      ],
      "text/plain": [
       "            Quantity      UnitPrice\n",
       "count  282159.000000  282159.000000\n",
       "mean       12.109885       3.460501\n",
       "std       296.463809      78.762448\n",
       "min    -80995.000000       0.000000\n",
       "25%         2.000000       1.250000\n",
       "50%         5.000000       1.950000\n",
       "75%        12.000000       3.750000\n",
       "max     80995.000000   38970.000000"
      ]
     },
     "execution_count": 12,
     "metadata": {},
     "output_type": "execute_result"
    }
   ],
   "source": [
    "data.describe()\n",
    "# drop(columns=['year','month','day_of_week','hour','minutes','day_of_month']).describe()"
   ]
  },
  {
   "cell_type": "code",
   "execution_count": 45,
   "metadata": {},
   "outputs": [
    {
     "data": {
      "image/png": "[encoded data removed]",
      "text/plain": [
       "<Figure size 432x288 with 1 Axes>"
      ]
     },
     "metadata": {
      "needs_background": "light"
     },
     "output_type": "display_data"
    }
   ],
   "source": [
    "# corr = data[['Quantity', 'UnitPrice']].corr(method='spearman')\n",
    "corr = data.corr(method='spearman')\n",
    "mask = np.triu(np.ones_like(corr, dtype=bool))\n",
    "\n",
    "sns.heatmap(corr, annot=True, mask=mask, cbar=False)\n",
    "\n",
    "\n",
    "plt.title(\"Spearman Correlation plot\")\n",
    "plt.tight_layout()\n",
    "plt.xticks(ticks=[0,1], labels=['Quantity', ''], )\n",
    "plt.yticks(ticks=[0,1], labels=['','UnitPrice'])\n",
    "plt.show()"
   ]
  },
  {
   "cell_type": "markdown",
   "metadata": {},
   "source": [
    "### Observations\n",
    "\n",
    "- There were $5093$ duplicate records in training data taht have been dropped.\n",
    "- No missing values have been found.\n",
    "- Both `Quantity` and `UnitPrice` have outliers. The severity of which needs to be further analysed. Although we will be limited in our ability to deal with outliers in `UnitPrice` since it is the target.\n",
    "- Minimum for `Quantity` is -80995 which seems improbable and also observe that maximum is 80995. It will be further analysed."
   ]
  },
  {
   "cell_type": "markdown",
   "metadata": {},
   "source": [
    "# Engineer Temporal Features from `InvoiceDate`"
   ]
  },
  {
   "cell_type": "code",
   "execution_count": 6,
   "metadata": {},
   "outputs": [],
   "source": [
    "data['year'] = data.InvoiceDate.dt.year\n",
    "data['month'] = data.InvoiceDate.dt.month\n",
    "data['day'] = data.InvoiceDate.dt.dayofweek # Monday=0, Sunday=6\n",
    "data['hour'] = data.InvoiceDate.dt.hour\n",
    "data['minutes'] = data.InvoiceDate.dt.minute\n",
    "data['day_of_month'] = data.InvoiceDate.dt.day"
   ]
  },
  {
   "cell_type": "code",
   "execution_count": 32,
   "metadata": {},
   "outputs": [
    {
     "data": {
      "text/html": [
       "<div>\n",
       "<style scoped>\n",
       "    .dataframe tbody tr th:only-of-type {\n",
       "        vertical-align: middle;\n",
       "    }\n",
       "\n",
       "    .dataframe tbody tr th {\n",
       "        vertical-align: top;\n",
       "    }\n",
       "\n",
       "    .dataframe thead th {\n",
       "        text-align: right;\n",
       "    }\n",
       "</style>\n",
       "<table border=\"1\" class=\"dataframe\">\n",
       "  <thead>\n",
       "    <tr style=\"text-align: right;\">\n",
       "      <th></th>\n",
       "      <th>InvoiceNo</th>\n",
       "      <th>StockCode</th>\n",
       "      <th>Description</th>\n",
       "      <th>Quantity</th>\n",
       "      <th>InvoiceDate</th>\n",
       "      <th>UnitPrice</th>\n",
       "      <th>CustomerID</th>\n",
       "      <th>Country</th>\n",
       "      <th>year</th>\n",
       "      <th>month</th>\n",
       "      <th>day</th>\n",
       "      <th>hour</th>\n",
       "      <th>minutes</th>\n",
       "      <th>day_of_month</th>\n",
       "    </tr>\n",
       "  </thead>\n",
       "  <tbody>\n",
       "    <tr>\n",
       "      <th>0</th>\n",
       "      <td>6141</td>\n",
       "      <td>1583</td>\n",
       "      <td>144</td>\n",
       "      <td>3</td>\n",
       "      <td>2011-05-06 16:54:00</td>\n",
       "      <td>3.75</td>\n",
       "      <td>14056</td>\n",
       "      <td>35</td>\n",
       "      <td>2011</td>\n",
       "      <td>5</td>\n",
       "      <td>4</td>\n",
       "      <td>16</td>\n",
       "      <td>54</td>\n",
       "      <td>6</td>\n",
       "    </tr>\n",
       "    <tr>\n",
       "      <th>1</th>\n",
       "      <td>6349</td>\n",
       "      <td>1300</td>\n",
       "      <td>3682</td>\n",
       "      <td>6</td>\n",
       "      <td>2011-05-11 07:35:00</td>\n",
       "      <td>1.95</td>\n",
       "      <td>13098</td>\n",
       "      <td>35</td>\n",
       "      <td>2011</td>\n",
       "      <td>5</td>\n",
       "      <td>2</td>\n",
       "      <td>7</td>\n",
       "      <td>35</td>\n",
       "      <td>11</td>\n",
       "    </tr>\n",
       "    <tr>\n",
       "      <th>2</th>\n",
       "      <td>16783</td>\n",
       "      <td>2178</td>\n",
       "      <td>1939</td>\n",
       "      <td>4</td>\n",
       "      <td>2011-11-20 13:20:00</td>\n",
       "      <td>5.95</td>\n",
       "      <td>15044</td>\n",
       "      <td>35</td>\n",
       "      <td>2011</td>\n",
       "      <td>11</td>\n",
       "      <td>6</td>\n",
       "      <td>13</td>\n",
       "      <td>20</td>\n",
       "      <td>20</td>\n",
       "    </tr>\n",
       "    <tr>\n",
       "      <th>3</th>\n",
       "      <td>16971</td>\n",
       "      <td>2115</td>\n",
       "      <td>2983</td>\n",
       "      <td>1</td>\n",
       "      <td>2011-11-22 12:07:00</td>\n",
       "      <td>0.83</td>\n",
       "      <td>15525</td>\n",
       "      <td>35</td>\n",
       "      <td>2011</td>\n",
       "      <td>11</td>\n",
       "      <td>1</td>\n",
       "      <td>12</td>\n",
       "      <td>7</td>\n",
       "      <td>22</td>\n",
       "    </tr>\n",
       "    <tr>\n",
       "      <th>4</th>\n",
       "      <td>6080</td>\n",
       "      <td>1210</td>\n",
       "      <td>2886</td>\n",
       "      <td>12</td>\n",
       "      <td>2011-05-06 09:00:00</td>\n",
       "      <td>1.65</td>\n",
       "      <td>13952</td>\n",
       "      <td>35</td>\n",
       "      <td>2011</td>\n",
       "      <td>5</td>\n",
       "      <td>4</td>\n",
       "      <td>9</td>\n",
       "      <td>0</td>\n",
       "      <td>6</td>\n",
       "    </tr>\n",
       "  </tbody>\n",
       "</table>\n",
       "</div>"
      ],
      "text/plain": [
       "  InvoiceNo StockCode Description  Quantity         InvoiceDate  UnitPrice  \\\n",
       "0      6141      1583         144         3 2011-05-06 16:54:00       3.75   \n",
       "1      6349      1300        3682         6 2011-05-11 07:35:00       1.95   \n",
       "2     16783      2178        1939         4 2011-11-20 13:20:00       5.95   \n",
       "3     16971      2115        2983         1 2011-11-22 12:07:00       0.83   \n",
       "4      6080      1210        2886        12 2011-05-06 09:00:00       1.65   \n",
       "\n",
       "  CustomerID Country  year  month  day  hour  minutes  day_of_month  \n",
       "0      14056      35  2011      5    4    16       54             6  \n",
       "1      13098      35  2011      5    2     7       35            11  \n",
       "2      15044      35  2011     11    6    13       20            20  \n",
       "3      15525      35  2011     11    1    12        7            22  \n",
       "4      13952      35  2011      5    4     9        0             6  "
      ]
     },
     "execution_count": 32,
     "metadata": {},
     "output_type": "execute_result"
    }
   ],
   "source": [
    "data.head()"
   ]
  },
  {
   "cell_type": "markdown",
   "metadata": {},
   "source": [
    "## General Hypothesis"
   ]
  },
  {
   "cell_type": "markdown",
   "metadata": {},
   "source": [
    "#### $Q$: Does every Invoice has only one Associated customer?\n",
    "$A:$ Yes every Invoice has only one unique customer associated with it. As shown below:"
   ]
  },
  {
   "cell_type": "code",
   "execution_count": 178,
   "metadata": {},
   "outputs": [
    {
     "name": "stdout",
     "output_type": "stream",
     "text": [
      "Number of unique invoices:  20971\n",
      "----------------------------------------------------------------------\n",
      "Number of Invoices with Number of unique customers !=1 : 0\n"
     ]
    }
   ],
   "source": [
    "# No of unique InvoiceID\n",
    "print(\"Number of unique invoices: \", data.InvoiceNo.nunique())\n",
    "\n",
    "print('-'*70)\n",
    "\n",
    "print(\"Number of Invoices with Number of unique customers !=1 :\",\n",
    "     (data.groupby('InvoiceNo')['CustomerID'].nunique() != 1).sum()\n",
    "     )\n"
   ]
  },
  {
   "cell_type": "markdown",
   "metadata": {},
   "source": [
    "# UNivariate ANalysis of Variables"
   ]
  },
  {
   "cell_type": "markdown",
   "metadata": {},
   "source": [
    "## `UnitPrice` $\\Longrightarrow$  Target variable"
   ]
  },
  {
   "cell_type": "code",
   "execution_count": 54,
   "metadata": {},
   "outputs": [
    {
     "data": {
      "text/plain": [
       "count    282159.000000\n",
       "mean          3.460501\n",
       "std          78.762448\n",
       "min           0.000000\n",
       "25%           1.250000\n",
       "50%           1.950000\n",
       "75%           3.750000\n",
       "max       38970.000000\n",
       "Name: UnitPrice, dtype: float64"
      ]
     },
     "execution_count": 54,
     "metadata": {},
     "output_type": "execute_result"
    }
   ],
   "source": [
    "data.UnitPrice.describe()"
   ]
  },
  {
   "cell_type": "code",
   "execution_count": 141,
   "metadata": {},
   "outputs": [],
   "source": [
    "# iqr \n",
    "# UNITPrice\n",
    "q1, q3 = np.percentile(data.UnitPrice, [25, 75])\n",
    "UP_iqr = q3 - q1\n",
    "UP_max_threshold = q3 + 1.5 * UP_iqr\n",
    "\n",
    "## LOG of UnitPrice\n",
    "q1, q3 = np.percentile(np.log(data.UnitPrice + np.full_like(data.UnitPrice, fill_value=0.0001)),\n",
    "                       [25, 75])\n",
    "iqr = q3 - q1\n",
    "\n",
    "log_max_threshold = q3 + 1.5 * iqr\n",
    "log_median = np.percentile(np.log(data.UnitPrice + np.full_like(data.UnitPrice, fill_value=0.0001)),\n",
    "                      50)"
   ]
  },
  {
   "cell_type": "code",
   "execution_count": 150,
   "metadata": {},
   "outputs": [
    {
     "data": {
      "image/png": "[encoded data removed]",
      "text/plain": [
       "<Figure size 1440x360 with 4 Axes>"
      ]
     },
     "metadata": {
      "needs_background": "light"
     },
     "output_type": "display_data"
    }
   ],
   "source": [
    "fig, ax = plt.subplots(1, 4, figsize=(20,5))\n",
    "\n",
    "\n",
    "plt.subplot(ax[0])\n",
    "# sns.boxplot(x=data.UnitPrice)\n",
    "sns.kdeplot(x=data.UnitPrice)\n",
    "plt.yticks([])\n",
    "plt.ylabel('')\n",
    "plt.title(\"Many Outliers present.\\n Median = 1.95, Q3 = 3.75\")\n",
    "\n",
    "plt.subplot(ax[1])\n",
    "sns.boxplot(x=np.log(data.UnitPrice + np.full_like(data.UnitPrice, fill_value=0.0001)))\n",
    "plt.xlabel('')\n",
    "plt.title(\"Box plot for Log of UnitPrice\")\n",
    "\n",
    "\n",
    "plt.subplot(ax[2])\n",
    "plt.plot(data.UnitPrice, np.ones_like(data.UnitPrice),\n",
    "         'o', alpha=0.5)\n",
    "\n",
    "plt.vlines(UP_max_threshold, 0.96, 1.04, linestyles='dashed', colors='g', label='q3+1.5*IQR = 7.5')\n",
    "plt.yticks([])\n",
    "plt.legend()\n",
    "# plt.xlim(right=5000)\n",
    "plt.title(\"UnitPrice distribution\")\n",
    "\n",
    "plt.subplot(ax[3])\n",
    "plt.plot(np.log(data.UnitPrice + np.full_like(data.UnitPrice, fill_value=0.0001)),\n",
    "         np.ones_like(data.UnitPrice),\n",
    "         'o', alpha=0.4, linewidth=0.5)\n",
    "\n",
    "plt.vlines(log_max_threshold, 0.96, 1.04, linestyles='dashed', colors='g', label=f'q3+1.5*IQR = {round(max_threshold,2)}')\n",
    "plt.vlines(log_median, 0.96, 1.04, linestyles='dashed', colors='lime', label=f'median = {round(median,2)}')\n",
    "plt.yticks([]) # remove y-ticks  \n",
    "plt.legend(loc='upper left')\n",
    "# plt.xlim(right=5000)\n",
    "plt.title(f\"UnitPrice (Log transformed) distribution\")\n",
    "\n",
    "plt.show()"
   ]
  },
  {
   "cell_type": "code",
   "execution_count": 144,
   "metadata": {},
   "outputs": [
    {
     "name": "stdout",
     "output_type": "stream",
     "text": [
      "9.0% of observations are above Max threshold in UnitPrice\n",
      "0.37% of observations are above Max threshold in Log of UnitPrice\n"
     ]
    }
   ],
   "source": [
    "\n",
    "a = np.log(data.UnitPrice + np.full_like(data.UnitPrice, fill_value=0.0001))\n",
    "\n",
    "print(f\"{round(len(data.UnitPrice[data.UnitPrice>UP_max_threshold])/len(data.UnitPrice) * 100,0)}\\\n",
    "% of observations are above Max threshold in UnitPrice\")\n",
    "\n",
    "print(f\"{round(len(a[a>log_max_threshold])/len(a) * 100,2)}\\\n",
    "% of observations are above Max threshold in Log of UnitPrice\")\n"
   ]
  },
  {
   "cell_type": "markdown",
   "metadata": {},
   "source": [
    "### Observation from analysis of `UnitPrice`\n",
    "\n",
    "- Taking Log reduced the Outliers from $\\approx 9\\%$ to $0.37\\%$.\n",
    "- Log transformation will be used on UnitPrice, $\\because$ it reduces the number of outliers significantly.\n"
   ]
  },
  {
   "cell_type": "code",
   "execution_count": 7,
   "metadata": {},
   "outputs": [],
   "source": [
    "# jitter added\n",
    "data['log_UnitPrice'] = np.log(data.UnitPrice + np.full_like(data.UnitPrice, fill_value=0.01))"
   ]
  },
  {
   "cell_type": "markdown",
   "metadata": {},
   "source": [
    "## `Quantity`\n",
    "From above Initaial analysis wkt. there are some discrepencies in Quantity values. We will explore them in depth."
   ]
  },
  {
   "cell_type": "code",
   "execution_count": 154,
   "metadata": {},
   "outputs": [
    {
     "name": "stdout",
     "output_type": "stream",
     "text": [
      "Number records where quantity is zero: 0\n",
      "Number of records where quantity < zero: 6153\n"
     ]
    }
   ],
   "source": [
    "print(f\"Number records where quantity is zero: {data[data.Quantity==0].shape[0]}\")\n",
    "print(f\"Number of records where quantity < zero: {data[data.Quantity<0].shape[0]}\")"
   ]
  },
  {
   "cell_type": "markdown",
   "metadata": {},
   "source": [
    "### Analysing `-ve` order Quantities\n",
    "Possibilities are that the negative quantities are either\n",
    "- mistakenly recorded as negative quantity or\n",
    "- result of negative proration such as  return orders [(refer)](https://knowledgecenter.zuora.com/BB_Introducing_Z_Business/How_Do_I_._._./How_do_I_handle_a_negative_invoice%3F).\n",
    "\n",
    "It has been noticed that negative quantities are present even in the test set, thus reducing the chances of it being being data entry error.\\\n",
    "This also takes away the possibility of dropping such records from analysis. Although the negative quatities are very small fraction of both the training as well as test datasets(as shown below)."
   ]
  },
  {
   "cell_type": "code",
   "execution_count": 109,
   "metadata": {},
   "outputs": [
    {
     "name": "stdout",
     "output_type": "stream",
     "text": [
      "Percentage of observations with negative quantity in Training data: 2.18\n",
      "----------------------------------------------------------------------------------------------------\n",
      "Percentage of observations with negative quantity in Test data: 2.24\n"
     ]
    }
   ],
   "source": [
    "print(\"Percentage of observations with negative quantity in Training data:\",\n",
    "     round(data[data.Quantity < 0].shape[0] / data.shape[0] * 100\n",
    "         ,2)\n",
    "     )\n",
    "\n",
    "print(\"-\"*100)\n",
    "\n",
    "print(\"Percentage of observations with negative quantity in Test data:\",\n",
    "     round(test[test.Quantity < 0].shape[0] / test.shape[0] * 100\n",
    "         ,2)\n",
    "     )"
   ]
  },
  {
   "cell_type": "code",
   "execution_count": 34,
   "metadata": {},
   "outputs": [],
   "source": [
    "data['Quantity_pos'] = data.Quantity.apply(lambda x: 'POS' if x>=0 else 'NEG')"
   ]
  },
  {
   "cell_type": "code",
   "execution_count": 118,
   "metadata": {},
   "outputs": [
    {
     "data": {
      "image/png": "[encoded data removed]",
      "text/plain": [
       "<Figure size 720x288 with 2 Axes>"
      ]
     },
     "metadata": {
      "needs_background": "light"
     },
     "output_type": "display_data"
    }
   ],
   "source": [
    "fig, ax = plt.subplots(1,2, figsize=(10, 4), sharey=True)\n",
    "plt.subplot(ax[0])\n",
    "sns.boxplot(y='Quantity_pos', x='UnitPrice', data=data, hue='Quantity_pos')\n",
    "plt.xlim(right=5000)\n",
    "plt.title(\"Box plot of UnitPrice\")\n",
    "\n",
    "plt.subplot(ax[1])\n",
    "sns.boxplot(y='Quantity_pos', x='log_UnitPrice', data=data, hue='Quantity_pos')\n",
    "plt.ylabel('')\n",
    "plt.yticks([])\n",
    "plt.title(\"Box plot of UnitPrice(log applied)\")\n",
    "\n",
    "plt.suptitle(\"Difficult to visually differenciate between the Groups (Positive and negative Quantity)\")\n",
    "\n",
    "plt.tight_layout()\n",
    "plt.show()"
   ]
  },
  {
   "cell_type": "code",
   "execution_count": 97,
   "metadata": {},
   "outputs": [
    {
     "data": {
      "text/html": [
       "<div>\n",
       "<style scoped>\n",
       "    .dataframe tbody tr th:only-of-type {\n",
       "        vertical-align: middle;\n",
       "    }\n",
       "\n",
       "    .dataframe tbody tr th {\n",
       "        vertical-align: top;\n",
       "    }\n",
       "\n",
       "    .dataframe thead th {\n",
       "        text-align: right;\n",
       "    }\n",
       "</style>\n",
       "<table border=\"1\" class=\"dataframe\">\n",
       "  <thead>\n",
       "    <tr style=\"text-align: right;\">\n",
       "      <th></th>\n",
       "      <th>count</th>\n",
       "      <th>mean</th>\n",
       "      <th>std</th>\n",
       "      <th>min</th>\n",
       "      <th>25%</th>\n",
       "      <th>50%</th>\n",
       "      <th>75%</th>\n",
       "      <th>max</th>\n",
       "    </tr>\n",
       "    <tr>\n",
       "      <th>Quantity_pos</th>\n",
       "      <th></th>\n",
       "      <th></th>\n",
       "      <th></th>\n",
       "      <th></th>\n",
       "      <th></th>\n",
       "      <th></th>\n",
       "      <th></th>\n",
       "      <th></th>\n",
       "    </tr>\n",
       "  </thead>\n",
       "  <tbody>\n",
       "    <tr>\n",
       "      <th>NEG</th>\n",
       "      <td>6153.0</td>\n",
       "      <td>20.599</td>\n",
       "      <td>521.433</td>\n",
       "      <td>0.01</td>\n",
       "      <td>1.45</td>\n",
       "      <td>2.95</td>\n",
       "      <td>4.95</td>\n",
       "      <td>38970.00</td>\n",
       "    </tr>\n",
       "    <tr>\n",
       "      <th>POS</th>\n",
       "      <td>276006.0</td>\n",
       "      <td>3.078</td>\n",
       "      <td>16.577</td>\n",
       "      <td>0.00</td>\n",
       "      <td>1.25</td>\n",
       "      <td>1.95</td>\n",
       "      <td>3.75</td>\n",
       "      <td>4161.06</td>\n",
       "    </tr>\n",
       "  </tbody>\n",
       "</table>\n",
       "</div>"
      ],
      "text/plain": [
       "                 count    mean      std   min   25%   50%   75%       max\n",
       "Quantity_pos                                                             \n",
       "NEG             6153.0  20.599  521.433  0.01  1.45  2.95  4.95  38970.00\n",
       "POS           276006.0   3.078   16.577  0.00  1.25  1.95  3.75   4161.06"
      ]
     },
     "execution_count": 97,
     "metadata": {},
     "output_type": "execute_result"
    }
   ],
   "source": [
    "data.groupby('Quantity_pos')['UnitPrice'].describe().round(3)"
   ]
  },
  {
   "cell_type": "markdown",
   "metadata": {},
   "source": [
    "#### Statistical test (Mann-Whitney U Test)\n",
    "\n",
    "- Although Relationship is not exactly Linear (that would indicate Normal distribution), but it is Linear enough give the large sample size.\n",
    "- Levene's test of Homogeneity of variance is violated. But if ratio of Largest: Smallest group is reasonable ($\\approx$ 1.5 times), then violation of this assumption should not cause any major issue.However, the ratio is too high ($\\approx$ 45 times). Thus violation is serious.\n",
    "\n",
    "Keeping in view above points the Non - parametric variant of the t-test, **Mann-Whitney U Test** is used."
   ]
  },
  {
   "cell_type": "markdown",
   "metadata": {},
   "source": [
    "##### Normality test"
   ]
  },
  {
   "cell_type": "code",
   "execution_count": 127,
   "metadata": {},
   "outputs": [
    {
     "data": {
      "image/png": "[encoded data removed]",
      "text/plain": [
       "<Figure size 432x288 with 1 Axes>"
      ]
     },
     "metadata": {
      "needs_background": "light"
     },
     "output_type": "display_data"
    }
   ],
   "source": [
    "stats.probplot(data.log_UnitPrice, plot=plt)\n",
    "plt.title(f\"Normal Probability Plot\\nNo of Observations: {data.log_UnitPrice.shape[0]}\")\n",
    "plt.ylabel(\"Log (UnitPrice)\")\n",
    "plt.show()"
   ]
  },
  {
   "cell_type": "markdown",
   "metadata": {},
   "source": [
    "##### Levene's test of Homogeneity"
   ]
  },
  {
   "cell_type": "code",
   "execution_count": 130,
   "metadata": {},
   "outputs": [],
   "source": [
    "stat, p = stats.levene(data.UnitPrice[data.Quantity_pos=='POS'],\n",
    "                      data.UnitPrice[data.Quantity_pos=='NEG'])"
   ]
  },
  {
   "cell_type": "code",
   "execution_count": 134,
   "metadata": {},
   "outputs": [
    {
     "name": "stdout",
     "output_type": "stream",
     "text": [
      "Levenes test is Significant, with p = 0.0.\n",
      "Thus, assumption of Homogeneity of Variance is Violated.\n"
     ]
    }
   ],
   "source": [
    "is_significant = lambda p_value: 'Significant' if p_value<=0.05 else 'NOT Significant'\n",
    "print(f\"Levenes test is {is_significant(p)}, with p = {round(p, 4)}.\")\n",
    "\n",
    "if is_significant(p).strip().lower() == 'significant':\n",
    "    print(\"Thus, assumption of Homogeneity of Variance is Violated.\")\n",
    "else:\n",
    "    print(\"Thus, assumption of Homogeneity of Variance is Not violated. \")"
   ]
  },
  {
   "cell_type": "code",
   "execution_count": 139,
   "metadata": {},
   "outputs": [
    {
     "name": "stdout",
     "output_type": "stream",
     "text": [
      "Ratio of Largest: Smallest = 45.0\n"
     ]
    }
   ],
   "source": [
    "print(f\"Ratio of Largest: Smallest = \\\n",
    "{round(data[data.Quantity_pos=='POS'].shape[0]/data[data.Quantity_pos=='NEG'].shape[0],0)}\"\n",
    ")"
   ]
  },
  {
   "cell_type": "markdown",
   "metadata": {},
   "source": [
    "##### Mann-Whitney U Test\n",
    "$H_0$: The distribution of UnitPrice is **same across categories** ie. POS and NEG Quantitites.\\\n",
    "$H_a$: The distribution of UnitPrice is **not same across categories** ie. POS and NEG Quantitites."
   ]
  },
  {
   "cell_type": "code",
   "execution_count": 141,
   "metadata": {},
   "outputs": [],
   "source": [
    "stat, p = stats.mannwhitneyu(x=data.UnitPrice[data.Quantity_pos=='POS'], \n",
    "                   y=data.UnitPrice[data.Quantity_pos=='NEG'],\n",
    "                   alternative='two-sided')"
   ]
  },
  {
   "cell_type": "code",
   "execution_count": 146,
   "metadata": {},
   "outputs": [
    {
     "name": "stdout",
     "output_type": "stream",
     "text": [
      "Mann-Whitney test is Significant (p=0.0), meaning the distribution of UnitPrice is sepearate across groups.\n"
     ]
    }
   ],
   "source": [
    "if p < 0.05:\n",
    "    print(f\"Mann-Whitney test is Significant (p={round(p, 4)}), meaning the distribution of UnitPrice is sepearate across groups.\")\n",
    "else:\n",
    "    print(f\"The test is Not significant (p={round(p, 4)}), meaning the distribution of UnitPrice is same across groups. \")"
   ]
  },
  {
   "cell_type": "markdown",
   "metadata": {},
   "source": [
    "#### Observation from Quantities divided into POS and NEG categories\n",
    "\n",
    "- Negative quantities are result of **negative proration**.\n",
    "- There is **statistically significant difference** in distribution of UnitPrice for **Postive and negative quantities**.\n",
    "- Thus `Quantity_pos` **may** prove to be a **useful feature** to any future predcitive model."
   ]
  },
  {
   "cell_type": "code",
   "execution_count": 128,
   "metadata": {},
   "outputs": [
    {
     "data": {
      "image/png": "[encoded data removed]",
      "text/plain": [
       "<Figure size 432x288 with 1 Axes>"
      ]
     },
     "metadata": {
      "needs_background": "light"
     },
     "output_type": "display_data"
    }
   ],
   "source": [
    "\n",
    "plt.scatter(data.Quantity, data.log_UnitPrice, alpha=0.3, color='r')\n",
    "plt.xlabel('Quantity')\n",
    "plt.ylabel(\"Log (UnitPrice)\")\n",
    "plt.xlim(-1000, 1500)\n",
    "rho = r\"$\\rho$\"\n",
    "plt.title(f\"Very weak Linear correlation with Target variable\\n{rho} = {round(stats.pearsonr(data.Quantity, data.log_UnitPrice)[0], 2)}\")\n",
    "plt.show()"
   ]
  },
  {
   "cell_type": "markdown",
   "metadata": {},
   "source": [
    "### Treating `Quantity` distribution\n",
    "\n",
    "$\\rightarrow$ Check Natural distribution \\\n",
    "$\\rightarrow$ Scale by Mean/Median (depending on outliers in distribution) \\\n",
    "$\\rightarrow$ Power Transformation \\\n",
    "$\\rightarrow$ Thresholding\\\n",
    "$\\rightarrow$ Which observations are above Threshold\\\n",
    "$\\rightarrow$ **Log Transformation** is **not an option** due to Negative values in the quantity data. "
   ]
  },
  {
   "cell_type": "code",
   "execution_count": 20,
   "metadata": {},
   "outputs": [],
   "source": [
    "quant_YJ = preprocessing.PowerTransformer().fit_transform(data.Quantity.values.reshape(-1,1))"
   ]
  },
  {
   "cell_type": "code",
   "execution_count": 63,
   "metadata": {},
   "outputs": [],
   "source": [
    "quant_scaled = preprocessing.StandardScaler().fit_transform(data.Quantity.values.reshape(-1,1))"
   ]
  },
  {
   "cell_type": "code",
   "execution_count": 10,
   "metadata": {},
   "outputs": [],
   "source": [
    "def median_transformation(variable):\n",
    "    '''\n",
    "         z = (x - u) / s\n",
    "    '''\n",
    "    median = np.median(variable)\n",
    "    mad = stats.median_abs_deviation(variable, nan_policy='omit')\n",
    "    \n",
    "    return pd.Series(variable).apply(lambda x: (x-median)/mad)\n",
    "    "
   ]
  },
  {
   "cell_type": "code",
   "execution_count": 11,
   "metadata": {},
   "outputs": [],
   "source": [
    "quant_med_scaled = median_transformation(data.Quantity)"
   ]
  },
  {
   "cell_type": "code",
   "execution_count": 88,
   "metadata": {},
   "outputs": [
    {
     "data": {
      "image/png": "[encoded data removed]",
      "text/plain": [
       "<Figure size 1080x360 with 3 Axes>"
      ]
     },
     "metadata": {
      "needs_background": "light"
     },
     "output_type": "display_data"
    },
    {
     "data": {
      "image/png": "[encoded data removed]",
      "text/plain": [
       "<Figure size 1440x360 with 4 Axes>"
      ]
     },
     "metadata": {
      "needs_background": "light"
     },
     "output_type": "display_data"
    }
   ],
   "source": [
    "### Box plots #########\n",
    "\n",
    "fig, ax = plt.subplots(1,3, figsize=(15, 5))\n",
    "\n",
    "plt.subplot(ax[0])\n",
    "sns.boxplot(x=data.Quantity)\n",
    "x_lim = (-100, 100)\n",
    "plt.xlim(x_lim)\n",
    "extreme_outliers = r\"$\\bf{Extreme \\ Outliers}$\"\n",
    "plt.title(f\"Quantitiy Distribution - zoomed in {x_lim}.\\n \\\n",
    "Presence of {extreme_outliers}.\\n \\\n",
    "Min = {data.Quantity.min().round(2)}, Median = {data.Quantity.median()}, Max = {data.Quantity.max()}\")\n",
    "plt.xlabel('')\n",
    "\n",
    "plt.subplot(ax[1])\n",
    "sns.boxplot(x=quant_YJ)\n",
    "x_lim = (-10, 20)\n",
    "plt.xlim(x_lim)\n",
    "plt.title(f\"Quantity Yeo Johnson transformed. - zoomed in {x_lim}.\\n \\\n",
    "Min = {quant_YJ.min().round(2)}, Median = {np.median(quant_YJ).round(2)}, Max = {quant_YJ.max().round(2)}\"\n",
    ")\n",
    "plt.xlabel('')\n",
    "\n",
    "plt.subplot(ax[2])\n",
    "sns.boxplot(x=quant_med_scaled)\n",
    "x_lim = (-100, 100)\n",
    "plt.xlim(x_lim)\n",
    "plt.title(f\"Quantity Median scaled - zoomed in {x_lim}.\\n \\\n",
    "Min = {quant_med_scaled.min().round(2)}, Median = {quant_med_scaled.median().round(2)}, Max = {quant_med_scaled.max().round(2)}\"\n",
    ")\n",
    "plt.xlabel('')\n",
    "\n",
    "plt.tight_layout()\n",
    "# plt.show()\n",
    "\n",
    "\n",
    "### Distribution Plots ####\n",
    "fig, ax = plt.subplots(1,4, figsize=(20,5))\n",
    "plt.subplot(ax[0])\n",
    "# x_lim = (-100, 100) \n",
    "sns.kdeplot(data.Quantity)\n",
    "plt.xlabel('')\n",
    "# plt.xlim(x_lim)\n",
    "plt.yticks([])\n",
    "plt.ylabel('')\n",
    "plt.title(\"Quantity\")\n",
    "\n",
    "plt.subplot(ax[1])\n",
    "x_lim = (-10, 20) \n",
    "sns.kdeplot(pd.Series(quant_YJ.reshape(len(quant_YJ))))\n",
    "plt.xlim(x_lim)\n",
    "plt.yticks([])\n",
    "plt.ylabel('')\n",
    "plt.title(\"Yeo Johnson Transformed\")\n",
    "\n",
    "plt.subplot(ax[2])\n",
    "x_lim = (-10, 20) \n",
    "sns.kdeplot(pd.Series(quant_scaled.reshape(len(quant_scaled))))\n",
    "plt.xlim(x_lim)\n",
    "plt.yticks([])\n",
    "plt.ylabel('')\n",
    "plt.title(\"Standard scaled\")\n",
    "\n",
    "plt.subplot(ax[3])\n",
    "# x_lim = (-100, 100) \n",
    "sns.kdeplot(quant_med_scaled)\n",
    "plt.xlabel('')\n",
    "# plt.xlim(x_lim)\n",
    "plt.yticks([])\n",
    "plt.ylabel('')\n",
    "plt.title(\"Median Scaled\")\n",
    "# sns.kdeplot(pd.Series(quant_med_scaled.reshape(len(quant_med_scaled))))\n",
    "\n",
    "plt.suptitle(\"Most of the observations are concentrated around a small range. Extreme Outliers need to be treated\")\n",
    "plt.show()"
   ]
  },
  {
   "cell_type": "code",
   "execution_count": 68,
   "metadata": {},
   "outputs": [
    {
     "name": "stdout",
     "output_type": "stream",
     "text": [
      "Range for Quantity:  161990\n",
      "Range for Quantity - Yeo Johnson Transformed:  543.86\n",
      "Range for Quantity - Median Scaled:  40497.5\n",
      "Range for Quantity - Standard Scaled:  546.41\n"
     ]
    }
   ],
   "source": [
    "print('Range for Quantity: ', data.Quantity.max() - data.Quantity.min())\n",
    "print('Range for Quantity - Yeo Johnson Transformed: ', (quant_YJ.max() - quant_YJ.min()).round(2))\n",
    "print('Range for Quantity - Median Scaled: ', quant_med_scaled.max() - quant_med_scaled.min())\n",
    "print('Range for Quantity - Standard Scaled: ', (quant_scaled.max() - quant_scaled.min()).round(2))"
   ]
  },
  {
   "cell_type": "markdown",
   "metadata": {},
   "source": [
    "#### Thresholded data\n",
    "- Thresholded data\n",
    "- Yeo Johnson Transformed thresholded data\n",
    "- Median transformed thresholded data "
   ]
  },
  {
   "cell_type": "code",
   "execution_count": 22,
   "metadata": {},
   "outputs": [],
   "source": [
    "# Thresholded Quantity data\n",
    "quant_thresholded = uf.threshold_data(data.Quantity)['th_data']\n",
    "\n",
    "# Yeo Johnson Transformed thresholded data\n",
    "quant_th_YJ = preprocessing.PowerTransformer().fit_transform(quant_thresholded.values.reshape(-1,1))\\\n",
    "            .reshape(len(quant_thresholded))\n",
    "\n",
    "# median scaled quantity thresholded\n",
    "quant_med_th = uf.threshold_data(quant_med_scaled)['th_data'].values.reshape(len(quant_med_scaled))"
   ]
  },
  {
   "cell_type": "code",
   "execution_count": 28,
   "metadata": {},
   "outputs": [
    {
     "data": {
      "image/png": "[encoded data removed]",
      "text/plain": [
       "<Figure size 1080x360 with 3 Axes>"
      ]
     },
     "metadata": {
      "needs_background": "light"
     },
     "output_type": "display_data"
    }
   ],
   "source": [
    "fig, ax = plt.subplots(1,3, figsize=(15,5))\n",
    "\n",
    "plt.subplot(ax[0])\n",
    "sns.kdeplot(quant_thresholded)\n",
    "plt.title(f\"Thresholded Quantity data.\\n\\\n",
    "Minimum = {quant_thresholded.min().round(2)}, Median = {quant_thresholded.median().round(2)}, Maximum = {quant_thresholded.max().round(2)}\"\n",
    ")\n",
    "plt.yticks([])\n",
    "plt.ylabel('')\n",
    "\n",
    "\n",
    "plt.subplot(ax[1])\n",
    "sns.kdeplot(quant_th_YJ)\n",
    "plt.title(f\"Yeo Johnson Transformed Thresholded data.\\n\\\n",
    "Minimum = {quant_th_YJ.min().round(2)}, Median = {np.median(quant_th_YJ).round(2)}, Maximum = {quant_th_YJ.max().round(2)}\"\n",
    ")\n",
    "plt.yticks([])\n",
    "plt.ylabel('')\n",
    "\n",
    "\n",
    "plt.subplot(ax[2])\n",
    "sns.kdeplot(quant_med_th, color='lime')\n",
    "plt.title(f\"Median Transformed Thresholded data.\\n\\\n",
    "Minimum = {quant_med_th.min().round(2)}, Median = {np.median(quant_med_th).round(2)}, Maximum = {quant_med_th.max().round(2)}\"\n",
    ")\n",
    "plt.yticks([])\n",
    "plt.ylabel('')\n",
    "\n",
    "plt.tight_layout()\n",
    "plt.show()"
   ]
  },
  {
   "cell_type": "markdown",
   "metadata": {},
   "source": [
    "### Takeaway from `Quantity`\n",
    "\n",
    "- Quantity NEG/POS category can be a good feature.\n",
    "- Standard scaled and Median Transformed Quantity thresholded data will be experimented with while modelling."
   ]
  },
  {
   "cell_type": "code",
   "execution_count": 34,
   "metadata": {},
   "outputs": [],
   "source": [
    "data['Quantity_pos'] = data.Quantity.apply(lambda x: 'POS' if x>=0 else 'NEG')"
   ]
  },
  {
   "cell_type": "markdown",
   "metadata": {},
   "source": [
    "## `Country`"
   ]
  },
  {
   "cell_type": "code",
   "execution_count": 18,
   "metadata": {},
   "outputs": [
    {
     "name": "stdout",
     "output_type": "stream",
     "text": [
      "There are data from 37 countries.\n"
     ]
    }
   ],
   "source": [
    "print(f\"There are data from {data.Country.nunique()} countries.\")"
   ]
  },
  {
   "cell_type": "code",
   "execution_count": 12,
   "metadata": {},
   "outputs": [
    {
     "data": {
      "text/plain": [
       "20971"
      ]
     },
     "execution_count": 12,
     "metadata": {},
     "output_type": "execute_result"
    }
   ],
   "source": [
    "data.InvoiceNo.nunique()"
   ]
  },
  {
   "cell_type": "code",
   "execution_count": 14,
   "metadata": {},
   "outputs": [
    {
     "data": {
      "text/plain": [
       "16985"
      ]
     },
     "execution_count": 14,
     "metadata": {},
     "output_type": "execute_result"
    }
   ],
   "source": [
    "len(set(data.InvoiceNo.unique())\\\n",
    "    .intersection(set(test.InvoiceNo.unique()))\n",
    "   )"
   ]
  },
  {
   "cell_type": "code",
   "execution_count": 26,
   "metadata": {},
   "outputs": [],
   "source": [
    "data.InvoiceDate = pd.to_datetime(data.InvoiceDate)"
   ]
  },
  {
   "cell_type": "code",
   "execution_count": 41,
   "metadata": {},
   "outputs": [],
   "source": [
    "# data.rename(columns={'day':'day_of_week'}, inplace=True)\n"
   ]
  },
  {
   "cell_type": "code",
   "execution_count": 36,
   "metadata": {},
   "outputs": [
    {
     "data": {
      "text/plain": [
       "3819"
      ]
     },
     "execution_count": 36,
     "metadata": {},
     "output_type": "execute_result"
    }
   ],
   "source": [
    "data.Description.nunique()"
   ]
  },
  {
   "cell_type": "code",
   "execution_count": 59,
   "metadata": {},
   "outputs": [
    {
     "data": {
      "text/plain": [
       "(34, 14)"
      ]
     },
     "execution_count": 59,
     "metadata": {},
     "output_type": "execute_result"
    }
   ],
   "source": [
    "data[data.InvoiceNo==6141].shape"
   ]
  },
  {
   "cell_type": "code",
   "execution_count": 43,
   "metadata": {},
   "outputs": [
    {
     "data": {
      "text/html": [
       "<div>\n",
       "<style scoped>\n",
       "    .dataframe tbody tr th:only-of-type {\n",
       "        vertical-align: middle;\n",
       "    }\n",
       "\n",
       "    .dataframe tbody tr th {\n",
       "        vertical-align: top;\n",
       "    }\n",
       "\n",
       "    .dataframe thead th {\n",
       "        text-align: right;\n",
       "    }\n",
       "</style>\n",
       "<table border=\"1\" class=\"dataframe\">\n",
       "  <thead>\n",
       "    <tr style=\"text-align: right;\">\n",
       "      <th></th>\n",
       "      <th>InvoiceNo</th>\n",
       "      <th>StockCode</th>\n",
       "      <th>Description</th>\n",
       "      <th>Quantity</th>\n",
       "      <th>InvoiceDate</th>\n",
       "      <th>UnitPrice</th>\n",
       "      <th>CustomerID</th>\n",
       "      <th>Country</th>\n",
       "      <th>year</th>\n",
       "      <th>month</th>\n",
       "      <th>day_of_week</th>\n",
       "      <th>hour</th>\n",
       "      <th>minutes</th>\n",
       "      <th>day_of_month</th>\n",
       "    </tr>\n",
       "  </thead>\n",
       "  <tbody>\n",
       "    <tr>\n",
       "      <th>0</th>\n",
       "      <td>6141</td>\n",
       "      <td>1583</td>\n",
       "      <td>144</td>\n",
       "      <td>3</td>\n",
       "      <td>2011-05-06 16:54:00</td>\n",
       "      <td>3.75</td>\n",
       "      <td>14056.0</td>\n",
       "      <td>35</td>\n",
       "      <td>2011</td>\n",
       "      <td>5</td>\n",
       "      <td>4</td>\n",
       "      <td>16</td>\n",
       "      <td>54</td>\n",
       "      <td>6</td>\n",
       "    </tr>\n",
       "    <tr>\n",
       "      <th>20741</th>\n",
       "      <td>6141</td>\n",
       "      <td>1893</td>\n",
       "      <td>2683</td>\n",
       "      <td>3</td>\n",
       "      <td>2011-05-06 16:54:00</td>\n",
       "      <td>8.25</td>\n",
       "      <td>14056.0</td>\n",
       "      <td>35</td>\n",
       "      <td>2011</td>\n",
       "      <td>5</td>\n",
       "      <td>4</td>\n",
       "      <td>16</td>\n",
       "      <td>54</td>\n",
       "      <td>6</td>\n",
       "    </tr>\n",
       "    <tr>\n",
       "      <th>21318</th>\n",
       "      <td>6141</td>\n",
       "      <td>2106</td>\n",
       "      <td>1023</td>\n",
       "      <td>1</td>\n",
       "      <td>2011-05-06 16:54:00</td>\n",
       "      <td>7.95</td>\n",
       "      <td>14056.0</td>\n",
       "      <td>35</td>\n",
       "      <td>2011</td>\n",
       "      <td>5</td>\n",
       "      <td>4</td>\n",
       "      <td>16</td>\n",
       "      <td>54</td>\n",
       "      <td>6</td>\n",
       "    </tr>\n",
       "    <tr>\n",
       "      <th>35092</th>\n",
       "      <td>6141</td>\n",
       "      <td>1272</td>\n",
       "      <td>1988</td>\n",
       "      <td>2</td>\n",
       "      <td>2011-05-06 16:54:00</td>\n",
       "      <td>1.25</td>\n",
       "      <td>14056.0</td>\n",
       "      <td>35</td>\n",
       "      <td>2011</td>\n",
       "      <td>5</td>\n",
       "      <td>4</td>\n",
       "      <td>16</td>\n",
       "      <td>54</td>\n",
       "      <td>6</td>\n",
       "    </tr>\n",
       "    <tr>\n",
       "      <th>54221</th>\n",
       "      <td>6141</td>\n",
       "      <td>2626</td>\n",
       "      <td>1017</td>\n",
       "      <td>1</td>\n",
       "      <td>2011-05-06 16:54:00</td>\n",
       "      <td>7.95</td>\n",
       "      <td>14056.0</td>\n",
       "      <td>35</td>\n",
       "      <td>2011</td>\n",
       "      <td>5</td>\n",
       "      <td>4</td>\n",
       "      <td>16</td>\n",
       "      <td>54</td>\n",
       "      <td>6</td>\n",
       "    </tr>\n",
       "    <tr>\n",
       "      <th>63730</th>\n",
       "      <td>6141</td>\n",
       "      <td>2033</td>\n",
       "      <td>1762</td>\n",
       "      <td>1</td>\n",
       "      <td>2011-05-06 16:54:00</td>\n",
       "      <td>2.08</td>\n",
       "      <td>14056.0</td>\n",
       "      <td>35</td>\n",
       "      <td>2011</td>\n",
       "      <td>5</td>\n",
       "      <td>4</td>\n",
       "      <td>16</td>\n",
       "      <td>54</td>\n",
       "      <td>6</td>\n",
       "    </tr>\n",
       "    <tr>\n",
       "      <th>66639</th>\n",
       "      <td>6141</td>\n",
       "      <td>170</td>\n",
       "      <td>1953</td>\n",
       "      <td>1</td>\n",
       "      <td>2011-05-06 16:54:00</td>\n",
       "      <td>1.65</td>\n",
       "      <td>14056.0</td>\n",
       "      <td>35</td>\n",
       "      <td>2011</td>\n",
       "      <td>5</td>\n",
       "      <td>4</td>\n",
       "      <td>16</td>\n",
       "      <td>54</td>\n",
       "      <td>6</td>\n",
       "    </tr>\n",
       "    <tr>\n",
       "      <th>77522</th>\n",
       "      <td>6141</td>\n",
       "      <td>1894</td>\n",
       "      <td>2688</td>\n",
       "      <td>3</td>\n",
       "      <td>2011-05-06 16:54:00</td>\n",
       "      <td>8.25</td>\n",
       "      <td>14056.0</td>\n",
       "      <td>35</td>\n",
       "      <td>2011</td>\n",
       "      <td>5</td>\n",
       "      <td>4</td>\n",
       "      <td>16</td>\n",
       "      <td>54</td>\n",
       "      <td>6</td>\n",
       "    </tr>\n",
       "    <tr>\n",
       "      <th>77652</th>\n",
       "      <td>6141</td>\n",
       "      <td>2035</td>\n",
       "      <td>1761</td>\n",
       "      <td>1</td>\n",
       "      <td>2011-05-06 16:54:00</td>\n",
       "      <td>2.08</td>\n",
       "      <td>14056.0</td>\n",
       "      <td>35</td>\n",
       "      <td>2011</td>\n",
       "      <td>5</td>\n",
       "      <td>4</td>\n",
       "      <td>16</td>\n",
       "      <td>54</td>\n",
       "      <td>6</td>\n",
       "    </tr>\n",
       "    <tr>\n",
       "      <th>94976</th>\n",
       "      <td>6141</td>\n",
       "      <td>1473</td>\n",
       "      <td>2245</td>\n",
       "      <td>6</td>\n",
       "      <td>2011-05-06 16:54:00</td>\n",
       "      <td>0.29</td>\n",
       "      <td>14056.0</td>\n",
       "      <td>35</td>\n",
       "      <td>2011</td>\n",
       "      <td>5</td>\n",
       "      <td>4</td>\n",
       "      <td>16</td>\n",
       "      <td>54</td>\n",
       "      <td>6</td>\n",
       "    </tr>\n",
       "    <tr>\n",
       "      <th>97505</th>\n",
       "      <td>6141</td>\n",
       "      <td>1516</td>\n",
       "      <td>1950</td>\n",
       "      <td>1</td>\n",
       "      <td>2011-05-06 16:54:00</td>\n",
       "      <td>1.65</td>\n",
       "      <td>14056.0</td>\n",
       "      <td>35</td>\n",
       "      <td>2011</td>\n",
       "      <td>5</td>\n",
       "      <td>4</td>\n",
       "      <td>16</td>\n",
       "      <td>54</td>\n",
       "      <td>6</td>\n",
       "    </tr>\n",
       "    <tr>\n",
       "      <th>136874</th>\n",
       "      <td>6141</td>\n",
       "      <td>2041</td>\n",
       "      <td>1946</td>\n",
       "      <td>6</td>\n",
       "      <td>2011-05-06 16:54:00</td>\n",
       "      <td>1.65</td>\n",
       "      <td>14056.0</td>\n",
       "      <td>35</td>\n",
       "      <td>2011</td>\n",
       "      <td>5</td>\n",
       "      <td>4</td>\n",
       "      <td>16</td>\n",
       "      <td>54</td>\n",
       "      <td>6</td>\n",
       "    </tr>\n",
       "    <tr>\n",
       "      <th>150679</th>\n",
       "      <td>6141</td>\n",
       "      <td>2028</td>\n",
       "      <td>550</td>\n",
       "      <td>4</td>\n",
       "      <td>2011-05-06 16:54:00</td>\n",
       "      <td>2.25</td>\n",
       "      <td>14056.0</td>\n",
       "      <td>35</td>\n",
       "      <td>2011</td>\n",
       "      <td>5</td>\n",
       "      <td>4</td>\n",
       "      <td>16</td>\n",
       "      <td>54</td>\n",
       "      <td>6</td>\n",
       "    </tr>\n",
       "    <tr>\n",
       "      <th>152154</th>\n",
       "      <td>6141</td>\n",
       "      <td>1270</td>\n",
       "      <td>1984</td>\n",
       "      <td>2</td>\n",
       "      <td>2011-05-06 16:54:00</td>\n",
       "      <td>1.25</td>\n",
       "      <td>14056.0</td>\n",
       "      <td>35</td>\n",
       "      <td>2011</td>\n",
       "      <td>5</td>\n",
       "      <td>4</td>\n",
       "      <td>16</td>\n",
       "      <td>54</td>\n",
       "      <td>6</td>\n",
       "    </tr>\n",
       "    <tr>\n",
       "      <th>158653</th>\n",
       "      <td>6141</td>\n",
       "      <td>1417</td>\n",
       "      <td>815</td>\n",
       "      <td>4</td>\n",
       "      <td>2011-05-06 16:54:00</td>\n",
       "      <td>1.65</td>\n",
       "      <td>14056.0</td>\n",
       "      <td>35</td>\n",
       "      <td>2011</td>\n",
       "      <td>5</td>\n",
       "      <td>4</td>\n",
       "      <td>16</td>\n",
       "      <td>54</td>\n",
       "      <td>6</td>\n",
       "    </tr>\n",
       "    <tr>\n",
       "      <th>161819</th>\n",
       "      <td>6141</td>\n",
       "      <td>2040</td>\n",
       "      <td>1947</td>\n",
       "      <td>6</td>\n",
       "      <td>2011-05-06 16:54:00</td>\n",
       "      <td>1.65</td>\n",
       "      <td>14056.0</td>\n",
       "      <td>35</td>\n",
       "      <td>2011</td>\n",
       "      <td>5</td>\n",
       "      <td>4</td>\n",
       "      <td>16</td>\n",
       "      <td>54</td>\n",
       "      <td>6</td>\n",
       "    </tr>\n",
       "    <tr>\n",
       "      <th>162257</th>\n",
       "      <td>6141</td>\n",
       "      <td>623</td>\n",
       "      <td>1019</td>\n",
       "      <td>1</td>\n",
       "      <td>2011-05-06 16:54:00</td>\n",
       "      <td>7.95</td>\n",
       "      <td>14056.0</td>\n",
       "      <td>35</td>\n",
       "      <td>2011</td>\n",
       "      <td>5</td>\n",
       "      <td>4</td>\n",
       "      <td>16</td>\n",
       "      <td>54</td>\n",
       "      <td>6</td>\n",
       "    </tr>\n",
       "    <tr>\n",
       "      <th>163373</th>\n",
       "      <td>6141</td>\n",
       "      <td>916</td>\n",
       "      <td>2259</td>\n",
       "      <td>6</td>\n",
       "      <td>2011-05-06 16:54:00</td>\n",
       "      <td>0.29</td>\n",
       "      <td>14056.0</td>\n",
       "      <td>35</td>\n",
       "      <td>2011</td>\n",
       "      <td>5</td>\n",
       "      <td>4</td>\n",
       "      <td>16</td>\n",
       "      <td>54</td>\n",
       "      <td>6</td>\n",
       "    </tr>\n",
       "    <tr>\n",
       "      <th>164969</th>\n",
       "      <td>6141</td>\n",
       "      <td>1413</td>\n",
       "      <td>2586</td>\n",
       "      <td>3</td>\n",
       "      <td>2011-05-06 16:54:00</td>\n",
       "      <td>1.65</td>\n",
       "      <td>14056.0</td>\n",
       "      <td>35</td>\n",
       "      <td>2011</td>\n",
       "      <td>5</td>\n",
       "      <td>4</td>\n",
       "      <td>16</td>\n",
       "      <td>54</td>\n",
       "      <td>6</td>\n",
       "    </tr>\n",
       "    <tr>\n",
       "      <th>173713</th>\n",
       "      <td>6141</td>\n",
       "      <td>2120</td>\n",
       "      <td>3338</td>\n",
       "      <td>4</td>\n",
       "      <td>2011-05-06 16:54:00</td>\n",
       "      <td>4.95</td>\n",
       "      <td>14056.0</td>\n",
       "      <td>35</td>\n",
       "      <td>2011</td>\n",
       "      <td>5</td>\n",
       "      <td>4</td>\n",
       "      <td>16</td>\n",
       "      <td>54</td>\n",
       "      <td>6</td>\n",
       "    </tr>\n",
       "    <tr>\n",
       "      <th>177879</th>\n",
       "      <td>6141</td>\n",
       "      <td>1472</td>\n",
       "      <td>2240</td>\n",
       "      <td>6</td>\n",
       "      <td>2011-05-06 16:54:00</td>\n",
       "      <td>0.29</td>\n",
       "      <td>14056.0</td>\n",
       "      <td>35</td>\n",
       "      <td>2011</td>\n",
       "      <td>5</td>\n",
       "      <td>4</td>\n",
       "      <td>16</td>\n",
       "      <td>54</td>\n",
       "      <td>6</td>\n",
       "    </tr>\n",
       "    <tr>\n",
       "      <th>195505</th>\n",
       "      <td>6141</td>\n",
       "      <td>1471</td>\n",
       "      <td>2252</td>\n",
       "      <td>6</td>\n",
       "      <td>2011-05-06 16:54:00</td>\n",
       "      <td>0.29</td>\n",
       "      <td>14056.0</td>\n",
       "      <td>35</td>\n",
       "      <td>2011</td>\n",
       "      <td>5</td>\n",
       "      <td>4</td>\n",
       "      <td>16</td>\n",
       "      <td>54</td>\n",
       "      <td>6</td>\n",
       "    </tr>\n",
       "    <tr>\n",
       "      <th>209587</th>\n",
       "      <td>6141</td>\n",
       "      <td>918</td>\n",
       "      <td>2238</td>\n",
       "      <td>2</td>\n",
       "      <td>2011-05-06 16:54:00</td>\n",
       "      <td>0.29</td>\n",
       "      <td>14056.0</td>\n",
       "      <td>35</td>\n",
       "      <td>2011</td>\n",
       "      <td>5</td>\n",
       "      <td>4</td>\n",
       "      <td>16</td>\n",
       "      <td>54</td>\n",
       "      <td>6</td>\n",
       "    </tr>\n",
       "    <tr>\n",
       "      <th>231241</th>\n",
       "      <td>6141</td>\n",
       "      <td>990</td>\n",
       "      <td>2322</td>\n",
       "      <td>1</td>\n",
       "      <td>2011-05-06 16:54:00</td>\n",
       "      <td>2.95</td>\n",
       "      <td>14056.0</td>\n",
       "      <td>35</td>\n",
       "      <td>2011</td>\n",
       "      <td>5</td>\n",
       "      <td>4</td>\n",
       "      <td>16</td>\n",
       "      <td>54</td>\n",
       "      <td>6</td>\n",
       "    </tr>\n",
       "    <tr>\n",
       "      <th>236588</th>\n",
       "      <td>6141</td>\n",
       "      <td>297</td>\n",
       "      <td>2871</td>\n",
       "      <td>2</td>\n",
       "      <td>2011-05-06 16:54:00</td>\n",
       "      <td>2.95</td>\n",
       "      <td>14056.0</td>\n",
       "      <td>35</td>\n",
       "      <td>2011</td>\n",
       "      <td>5</td>\n",
       "      <td>4</td>\n",
       "      <td>16</td>\n",
       "      <td>54</td>\n",
       "      <td>6</td>\n",
       "    </tr>\n",
       "    <tr>\n",
       "      <th>239982</th>\n",
       "      <td>6141</td>\n",
       "      <td>2042</td>\n",
       "      <td>1961</td>\n",
       "      <td>6</td>\n",
       "      <td>2011-05-06 16:54:00</td>\n",
       "      <td>1.65</td>\n",
       "      <td>14056.0</td>\n",
       "      <td>35</td>\n",
       "      <td>2011</td>\n",
       "      <td>5</td>\n",
       "      <td>4</td>\n",
       "      <td>16</td>\n",
       "      <td>54</td>\n",
       "      <td>6</td>\n",
       "    </tr>\n",
       "    <tr>\n",
       "      <th>244623</th>\n",
       "      <td>6141</td>\n",
       "      <td>1546</td>\n",
       "      <td>1039</td>\n",
       "      <td>1</td>\n",
       "      <td>2011-05-06 16:54:00</td>\n",
       "      <td>7.95</td>\n",
       "      <td>14056.0</td>\n",
       "      <td>35</td>\n",
       "      <td>2011</td>\n",
       "      <td>5</td>\n",
       "      <td>4</td>\n",
       "      <td>16</td>\n",
       "      <td>54</td>\n",
       "      <td>6</td>\n",
       "    </tr>\n",
       "    <tr>\n",
       "      <th>249373</th>\n",
       "      <td>6141</td>\n",
       "      <td>1693</td>\n",
       "      <td>3585</td>\n",
       "      <td>6</td>\n",
       "      <td>2011-05-06 16:54:00</td>\n",
       "      <td>8.50</td>\n",
       "      <td>14056.0</td>\n",
       "      <td>35</td>\n",
       "      <td>2011</td>\n",
       "      <td>5</td>\n",
       "      <td>4</td>\n",
       "      <td>16</td>\n",
       "      <td>54</td>\n",
       "      <td>6</td>\n",
       "    </tr>\n",
       "    <tr>\n",
       "      <th>249818</th>\n",
       "      <td>6141</td>\n",
       "      <td>166</td>\n",
       "      <td>2751</td>\n",
       "      <td>3</td>\n",
       "      <td>2011-05-06 16:54:00</td>\n",
       "      <td>1.25</td>\n",
       "      <td>14056.0</td>\n",
       "      <td>35</td>\n",
       "      <td>2011</td>\n",
       "      <td>5</td>\n",
       "      <td>4</td>\n",
       "      <td>16</td>\n",
       "      <td>54</td>\n",
       "      <td>6</td>\n",
       "    </tr>\n",
       "    <tr>\n",
       "      <th>251651</th>\n",
       "      <td>6141</td>\n",
       "      <td>915</td>\n",
       "      <td>2250</td>\n",
       "      <td>2</td>\n",
       "      <td>2011-05-06 16:54:00</td>\n",
       "      <td>0.29</td>\n",
       "      <td>14056.0</td>\n",
       "      <td>35</td>\n",
       "      <td>2011</td>\n",
       "      <td>5</td>\n",
       "      <td>4</td>\n",
       "      <td>16</td>\n",
       "      <td>54</td>\n",
       "      <td>6</td>\n",
       "    </tr>\n",
       "    <tr>\n",
       "      <th>251925</th>\n",
       "      <td>6141</td>\n",
       "      <td>1891</td>\n",
       "      <td>2687</td>\n",
       "      <td>1</td>\n",
       "      <td>2011-05-06 16:54:00</td>\n",
       "      <td>8.25</td>\n",
       "      <td>14056.0</td>\n",
       "      <td>35</td>\n",
       "      <td>2011</td>\n",
       "      <td>5</td>\n",
       "      <td>4</td>\n",
       "      <td>16</td>\n",
       "      <td>54</td>\n",
       "      <td>6</td>\n",
       "    </tr>\n",
       "    <tr>\n",
       "      <th>252042</th>\n",
       "      <td>6141</td>\n",
       "      <td>1841</td>\n",
       "      <td>3494</td>\n",
       "      <td>24</td>\n",
       "      <td>2011-05-06 16:54:00</td>\n",
       "      <td>0.42</td>\n",
       "      <td>14056.0</td>\n",
       "      <td>35</td>\n",
       "      <td>2011</td>\n",
       "      <td>5</td>\n",
       "      <td>4</td>\n",
       "      <td>16</td>\n",
       "      <td>54</td>\n",
       "      <td>6</td>\n",
       "    </tr>\n",
       "    <tr>\n",
       "      <th>255933</th>\n",
       "      <td>6141</td>\n",
       "      <td>1580</td>\n",
       "      <td>147</td>\n",
       "      <td>1</td>\n",
       "      <td>2011-05-06 16:54:00</td>\n",
       "      <td>3.75</td>\n",
       "      <td>14056.0</td>\n",
       "      <td>35</td>\n",
       "      <td>2011</td>\n",
       "      <td>5</td>\n",
       "      <td>4</td>\n",
       "      <td>16</td>\n",
       "      <td>54</td>\n",
       "      <td>6</td>\n",
       "    </tr>\n",
       "    <tr>\n",
       "      <th>256936</th>\n",
       "      <td>6141</td>\n",
       "      <td>262</td>\n",
       "      <td>3147</td>\n",
       "      <td>5</td>\n",
       "      <td>2011-05-06 16:54:00</td>\n",
       "      <td>2.95</td>\n",
       "      <td>14056.0</td>\n",
       "      <td>35</td>\n",
       "      <td>2011</td>\n",
       "      <td>5</td>\n",
       "      <td>4</td>\n",
       "      <td>16</td>\n",
       "      <td>54</td>\n",
       "      <td>6</td>\n",
       "    </tr>\n",
       "  </tbody>\n",
       "</table>\n",
       "</div>"
      ],
      "text/plain": [
       "        InvoiceNo  StockCode  Description  Quantity         InvoiceDate  \\\n",
       "0            6141       1583          144         3 2011-05-06 16:54:00   \n",
       "20741        6141       1893         2683         3 2011-05-06 16:54:00   \n",
       "21318        6141       2106         1023         1 2011-05-06 16:54:00   \n",
       "35092        6141       1272         1988         2 2011-05-06 16:54:00   \n",
       "54221        6141       2626         1017         1 2011-05-06 16:54:00   \n",
       "63730        6141       2033         1762         1 2011-05-06 16:54:00   \n",
       "66639        6141        170         1953         1 2011-05-06 16:54:00   \n",
       "77522        6141       1894         2688         3 2011-05-06 16:54:00   \n",
       "77652        6141       2035         1761         1 2011-05-06 16:54:00   \n",
       "94976        6141       1473         2245         6 2011-05-06 16:54:00   \n",
       "97505        6141       1516         1950         1 2011-05-06 16:54:00   \n",
       "136874       6141       2041         1946         6 2011-05-06 16:54:00   \n",
       "150679       6141       2028          550         4 2011-05-06 16:54:00   \n",
       "152154       6141       1270         1984         2 2011-05-06 16:54:00   \n",
       "158653       6141       1417          815         4 2011-05-06 16:54:00   \n",
       "161819       6141       2040         1947         6 2011-05-06 16:54:00   \n",
       "162257       6141        623         1019         1 2011-05-06 16:54:00   \n",
       "163373       6141        916         2259         6 2011-05-06 16:54:00   \n",
       "164969       6141       1413         2586         3 2011-05-06 16:54:00   \n",
       "173713       6141       2120         3338         4 2011-05-06 16:54:00   \n",
       "177879       6141       1472         2240         6 2011-05-06 16:54:00   \n",
       "195505       6141       1471         2252         6 2011-05-06 16:54:00   \n",
       "209587       6141        918         2238         2 2011-05-06 16:54:00   \n",
       "231241       6141        990         2322         1 2011-05-06 16:54:00   \n",
       "236588       6141        297         2871         2 2011-05-06 16:54:00   \n",
       "239982       6141       2042         1961         6 2011-05-06 16:54:00   \n",
       "244623       6141       1546         1039         1 2011-05-06 16:54:00   \n",
       "249373       6141       1693         3585         6 2011-05-06 16:54:00   \n",
       "249818       6141        166         2751         3 2011-05-06 16:54:00   \n",
       "251651       6141        915         2250         2 2011-05-06 16:54:00   \n",
       "251925       6141       1891         2687         1 2011-05-06 16:54:00   \n",
       "252042       6141       1841         3494        24 2011-05-06 16:54:00   \n",
       "255933       6141       1580          147         1 2011-05-06 16:54:00   \n",
       "256936       6141        262         3147         5 2011-05-06 16:54:00   \n",
       "\n",
       "        UnitPrice  CustomerID  Country  year  month  day_of_week  hour  \\\n",
       "0            3.75     14056.0       35  2011      5            4    16   \n",
       "20741        8.25     14056.0       35  2011      5            4    16   \n",
       "21318        7.95     14056.0       35  2011      5            4    16   \n",
       "35092        1.25     14056.0       35  2011      5            4    16   \n",
       "54221        7.95     14056.0       35  2011      5            4    16   \n",
       "63730        2.08     14056.0       35  2011      5            4    16   \n",
       "66639        1.65     14056.0       35  2011      5            4    16   \n",
       "77522        8.25     14056.0       35  2011      5            4    16   \n",
       "77652        2.08     14056.0       35  2011      5            4    16   \n",
       "94976        0.29     14056.0       35  2011      5            4    16   \n",
       "97505        1.65     14056.0       35  2011      5            4    16   \n",
       "136874       1.65     14056.0       35  2011      5            4    16   \n",
       "150679       2.25     14056.0       35  2011      5            4    16   \n",
       "152154       1.25     14056.0       35  2011      5            4    16   \n",
       "158653       1.65     14056.0       35  2011      5            4    16   \n",
       "161819       1.65     14056.0       35  2011      5            4    16   \n",
       "162257       7.95     14056.0       35  2011      5            4    16   \n",
       "163373       0.29     14056.0       35  2011      5            4    16   \n",
       "164969       1.65     14056.0       35  2011      5            4    16   \n",
       "173713       4.95     14056.0       35  2011      5            4    16   \n",
       "177879       0.29     14056.0       35  2011      5            4    16   \n",
       "195505       0.29     14056.0       35  2011      5            4    16   \n",
       "209587       0.29     14056.0       35  2011      5            4    16   \n",
       "231241       2.95     14056.0       35  2011      5            4    16   \n",
       "236588       2.95     14056.0       35  2011      5            4    16   \n",
       "239982       1.65     14056.0       35  2011      5            4    16   \n",
       "244623       7.95     14056.0       35  2011      5            4    16   \n",
       "249373       8.50     14056.0       35  2011      5            4    16   \n",
       "249818       1.25     14056.0       35  2011      5            4    16   \n",
       "251651       0.29     14056.0       35  2011      5            4    16   \n",
       "251925       8.25     14056.0       35  2011      5            4    16   \n",
       "252042       0.42     14056.0       35  2011      5            4    16   \n",
       "255933       3.75     14056.0       35  2011      5            4    16   \n",
       "256936       2.95     14056.0       35  2011      5            4    16   \n",
       "\n",
       "        minutes  day_of_month  \n",
       "0            54             6  \n",
       "20741        54             6  \n",
       "21318        54             6  \n",
       "35092        54             6  \n",
       "54221        54             6  \n",
       "63730        54             6  \n",
       "66639        54             6  \n",
       "77522        54             6  \n",
       "77652        54             6  \n",
       "94976        54             6  \n",
       "97505        54             6  \n",
       "136874       54             6  \n",
       "150679       54             6  \n",
       "152154       54             6  \n",
       "158653       54             6  \n",
       "161819       54             6  \n",
       "162257       54             6  \n",
       "163373       54             6  \n",
       "164969       54             6  \n",
       "173713       54             6  \n",
       "177879       54             6  \n",
       "195505       54             6  \n",
       "209587       54             6  \n",
       "231241       54             6  \n",
       "236588       54             6  \n",
       "239982       54             6  \n",
       "244623       54             6  \n",
       "249373       54             6  \n",
       "249818       54             6  \n",
       "251651       54             6  \n",
       "251925       54             6  \n",
       "252042       54             6  \n",
       "255933       54             6  \n",
       "256936       54             6  "
      ]
     },
     "execution_count": 43,
     "metadata": {},
     "output_type": "execute_result"
    }
   ],
   "source": [
    "data[data.InvoiceNo==6141]"
   ]
  },
  {
   "cell_type": "markdown",
   "metadata": {},
   "source": [
    "# Basic Mean modelling"
   ]
  },
  {
   "cell_type": "code",
   "execution_count": 38,
   "metadata": {},
   "outputs": [
    {
     "data": {
      "text/plain": [
       "3.46050097285573"
      ]
     },
     "execution_count": 38,
     "metadata": {},
     "output_type": "execute_result"
    }
   ],
   "source": [
    "data.UnitPrice.mean()"
   ]
  },
  {
   "cell_type": "code",
   "execution_count": null,
   "metadata": {},
   "outputs": [],
   "source": [
    "predicted = "
   ]
  }
 ],
 "metadata": {
  "kernelspec": {
   "display_name": "Python 3",
   "language": "python",
   "name": "python3"
  },
  "language_info": {
   "codemirror_mode": {
    "name": "ipython",
    "version": 3
   },
   "file_extension": ".py",
   "mimetype": "text/x-python",
   "name": "python",
   "nbconvert_exporter": "python",
   "pygments_lexer": "ipython3",
   "version": "3.8.5"
  }
 },
 "nbformat": 4,
 "nbformat_minor": 4
}
